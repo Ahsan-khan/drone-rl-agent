{
  "nbformat": 4,
  "nbformat_minor": 0,
  "metadata": {
    "colab": {
      "provenance": []
    },
    "kernelspec": {
      "name": "python3",
      "display_name": "Python 3"
    },
    "language_info": {
      "name": "python"
    }
  },
  "cells": [
    {
      "cell_type": "code",
      "source": [
        "!pip install stable_baselines3\n",
        "!pip install 'shimmy>=0.2.1'\n",
        "!pip install pygame\n"
      ],
      "metadata": {
        "id": "VF8U1GwIDiDn"
      },
      "execution_count": null,
      "outputs": []
    },
    {
      "cell_type": "code",
      "source": [
        "# Libraries\n",
        "import matplotlib.pyplot as plt\n",
        "\n",
        "from stable_baselines3 import PPO\n",
        "import matplotlib.pyplot as plt\n",
        "\n",
        "import gym\n",
        "from gym import spaces\n",
        "import numpy as np\n",
        "\n",
        "from IPython.display import clear_output, display\n",
        "import pygame\n"
      ],
      "metadata": {
        "id": "ZtmBdHq9COp-"
      },
      "execution_count": 36,
      "outputs": []
    },
    {
      "cell_type": "markdown",
      "source": [
        "## **[1] Object Detection**\n",
        "*   Location of fire\n",
        "*   location of each drone\n",
        "\n"
      ],
      "metadata": {
        "id": "k4GDOi_NGCeA"
      }
    },
    {
      "cell_type": "markdown",
      "source": [
        "## **[2] Simultanoes Localization and Mapping**\n",
        "* For observing obstacles"
      ],
      "metadata": {
        "id": "9IakXtVZGlhg"
      }
    },
    {
      "cell_type": "markdown",
      "source": [
        "## **[3] Meta Agent Reinforcement Learning (Giving life to the system)**\n",
        "\n",
        "**state space:**\n",
        "* position of all drones\n",
        "* position of fire\n",
        "* position of obstacles\n",
        "* battery status of all drones\n",
        "* status of drone (heading to fire, heading to refuel, fighting fire)\n",
        "\n",
        "**action space:**\n",
        "* Position of where drone needs to end up\n",
        "\n"
      ],
      "metadata": {
        "id": "N6qx9NPJ_eEv"
      }
    },
    {
      "cell_type": "code",
      "source": [],
      "metadata": {
        "id": "t0aX2a7qCFxf"
      },
      "execution_count": null,
      "outputs": []
    },
    {
      "cell_type": "markdown",
      "source": [
        "Defining Custom Environment"
      ],
      "metadata": {
        "id": "8fNPEw5VCGK3"
      }
    },
    {
      "cell_type": "code",
      "source": [
        "\n",
        "\n",
        "class CustomEnv(gym.Env):\n",
        "    def __init__(self, num_drones, num_fires, num_obstacles):\n",
        "        super(CustomEnv, self).__init__()\n",
        "\n",
        "        # Define parameters\n",
        "        self.num_drones = num_drones\n",
        "        self.num_fires = num_fires\n",
        "        self.num_obstacles = num_obstacles\n",
        "\n",
        "        self.collision_radius = 1.0  # Collision radius for drones and obstacles\n",
        "        self.extinguish_radius = 2.0 # Extinguish radius for fires\n",
        "        self.fire_reward = 10.0      # Reward for extinguishing a fire\n",
        "\n",
        "        # Define observation space (drone x, y, fire x, y, obstacle x, y)\n",
        "        obs_low = np.zeros(2 * (num_drones + num_fires + num_obstacles))\n",
        "        obs_high = np.ones(2 * (num_drones + num_fires + num_obstacles)) * 100  # Assuming 100x100 grid\n",
        "        self.observation_space = spaces.Box(low=obs_low, high=obs_high, dtype=np.float32)\n",
        "\n",
        "        # Define action space (dx, dy for each drone)\n",
        "        action_low = np.ones(2 * num_drones) * -5\n",
        "        action_high = np.ones(2 * num_drones) * 5\n",
        "        self.action_space = spaces.Box(low=action_low, high=action_high, dtype=np.float32)\n",
        "\n",
        "        # Initialize environment state\n",
        "        self.state = np.zeros(2 * (num_drones + num_fires + num_obstacles))\n",
        "\n",
        "        pygame.init()\n",
        "        self.screen = pygame.display.set_mode((800, 600))\n",
        "        pygame.display.set_caption('Drone Environment')\n",
        "        self.clock = pygame.time.Clock()\n",
        "\n",
        "    def reset(self):\n",
        "        # Initialize the environment and return the initial observation\n",
        "        self.state = np.random.uniform(0, 100, 2 * (self.num_drones + self.num_fires + self.num_obstacles))\n",
        "        return self.state\n",
        "\n",
        "    '''def step(self, action):\n",
        "        # Apply action to the environment, update state\n",
        "        # Here you would apply the physics of your drones and handle the obstacles and fires\n",
        "        # This example just moves the drones according to the actions\n",
        "        self.state[:2 * self.num_drones] += action\n",
        "\n",
        "        # Check for collisions with obstacles or extinguishing fires\n",
        "        # You would add more logic here based on the exact behavior of your drones, fires, and obstacles\n",
        "        reward = 0\n",
        "        for i in range(self.num_drones):\n",
        "            drone_pos = self.state[2 * i:2 * i + 2]\n",
        "            for j in range(self.num_fires):\n",
        "                fire_pos = self.state[2 * (self.num_drones + j):2 * (self.num_drones + j + 1)]\n",
        "                if np.linalg.norm(drone_pos - fire_pos) < 5:  # Assuming drones extinguish fires within distance 5\n",
        "                    reward += 1'''\n",
        "\n",
        "\n",
        "    def render(self, mode='human'):\n",
        "        # Clear the current figure\n",
        "        plt.clf()\n",
        "\n",
        "        # Extract positions of drones, fires, and obstacles from the state\n",
        "        drones_pos = self.state[:2 * self.num_drones].reshape(-1, 2)\n",
        "        fires_pos = self.state[2 * self.num_drones:2 * (self.num_drones + self.num_fires)].reshape(-1, 2)\n",
        "        obstacles_pos = self.state[2 * (self.num_drones + self.num_fires):].reshape(-1, 2)\n",
        "\n",
        "        # Plot drones, fires, and obstacles\n",
        "        plt.scatter(drones_pos[:, 0], drones_pos[:, 1], c='blue', label='Drones')\n",
        "        plt.scatter(fires_pos[:, 0], fires_pos[:, 1], c='red', label='Fires')\n",
        "        plt.scatter(obstacles_pos[:, 0], obstacles_pos[:, 1], c='black', label='Obstacles')\n",
        "\n",
        "        plt.legend()\n",
        "        plt.axis('equal')\n",
        "        plt.pause(0.01)  # Add a pause to allow the plot to update\n",
        "\n",
        "    def close(self):\n",
        "        pygame.quit()\n",
        "\n",
        "    plt.xlim(0, 100)\n",
        "    plt.ylim(0, 100)\n",
        "    plt.pause(0.01)  # Pause for a short period to allow the plot to update\n",
        "\n",
        "\n",
        "\n",
        "    def step(self, action):\n",
        "    # Extract the positions of drones, fires, and obstacles from the state\n",
        "        drones_pos = self.state[:2 * self.num_drones].reshape(-1, 2)\n",
        "        fires_pos = self.state[2 * self.num_drones:2 * (self.num_drones + self.num_fires)].reshape(-1, 2)\n",
        "        obstacles_pos = self.state[2 * (self.num_drones + self.num_fires):].reshape(-1, 2)\n",
        "\n",
        "    # Apply actions to drones (move them)\n",
        "        for i in range(self.num_drones):\n",
        "            drones_pos[i] += action[i * 2: (i + 1) * 2]\n",
        "\n",
        "        # Check for collisions with obstacles and prevent them\n",
        "            for obstacle_pos in obstacles_pos:\n",
        "                if np.linalg.norm(drones_pos[i] - obstacle_pos) < self.collision_radius:\n",
        "                # Logic to handle collision, e.g., stop the movement\n",
        "                    drones_pos[i] -= action[i * 2: (i + 1) * 2]\n",
        "    # Update the state with the new positions\n",
        "        self.state[:2 * self.num_drones] = drones_pos.flatten()\n",
        "\n",
        "    # Compute reward (e.g., based on extinguishing fires)\n",
        "        reward = 0\n",
        "        for i in range(self.num_fires):\n",
        "            for j in range(self.num_drones):\n",
        "                if np.linalg.norm(drones_pos[j] - fires_pos[i]) < self.extinguish_radius:\n",
        "                    reward += self.fire_reward\n",
        "\n",
        "    # Determine whether the episode is done (e.g., all fires are extinguished)\n",
        "        done = False\n",
        "        if reward == self.num_fires * self.fire_reward:\n",
        "            done = True\n",
        "\n",
        "    # Optional additional information\n",
        "        info = {}\n",
        "\n",
        "        return self.state, reward, done, info\n",
        "\n",
        "\n",
        "        plt.xlim(0, 100)\n",
        "        plt.ylim(0, 100)\n",
        "        plt.pause(0.01)  # Pause for a short period to allow the plot to update\n",
        "\n",
        "\n",
        "        # Set termination criteria\n",
        "        done = False\n",
        "\n",
        "        return self.state, reward, done, {}\n"
      ],
      "metadata": {
        "colab": {
          "base_uri": "https://localhost:8080/",
          "height": 435
        },
        "id": "y87PyIQZBeHj",
        "outputId": "ec01efcc-925e-43bb-fa80-02067912f4e7"
      },
      "execution_count": 40,
      "outputs": [
        {
          "output_type": "display_data",
          "data": {
            "text/plain": [
              "<Figure size 640x480 with 1 Axes>"
            ],
            "image/png": "[encoded data removed]"
          },
          "metadata": {}
        }
      ]
    },
    {
      "cell_type": "markdown",
      "source": [
        "**Creating and training PPO**"
      ],
      "metadata": {
        "id": "02c77IjfB9C5"
      }
    },
    {
      "cell_type": "code",
      "source": [
        "# Existing imports\n",
        "\n",
        "\n",
        "# Existing environment definition\n",
        "env = CustomEnv(num_drones=3, num_fires=2, num_obstacles=4)\n",
        "\n",
        "# Create PPO model\n",
        "model = PPO(\"MlpPolicy\", env, verbose=1)\n",
        "\n",
        "# Number of steps to train the model\n",
        "total_timesteps = 10000\n",
        "\n",
        "# Training loop with visualization\n",
        "obs = env.reset()\n",
        "'''for t in range(total_timesteps):\n",
        "    action, _ = model.predict(obs, deterministic=False)\n",
        "    obs, reward, done, info = env.step(action)\n",
        "\n",
        "    # Render the environment\n",
        "    env.render()\n",
        "    #plt.show()\n",
        "    clear_output(wait=True)\n",
        "\n",
        "    if done:\n",
        "        obs = env.reset()'''\n",
        "for t in range(total_timesteps):\n",
        "    action, _ = model.predict(obs, deterministic=False)\n",
        "    obs, reward, done, info = env.step(action)\n",
        "\n",
        "    # Render the environment\n",
        "    env.render()\n",
        "    clear_output(wait=True)\n",
        "\n",
        "    if done:\n",
        "        obs = env.reset()\n",
        "\n",
        "# Save the trained model\n",
        "model.save(\"ppo_custom_env\")\n",
        "\n",
        "#plt.show()\n",
        "\n",
        "env.close()\n"
      ],
      "metadata": {
        "colab": {
          "base_uri": "https://localhost:8080/",
          "height": 430
        },
        "id": "C8KkSLaKDRbo",
        "outputId": "e4f52a59-7a26-4402-bdbd-a3a003281a9e"
      },
      "execution_count": 42,
      "outputs": [
        {
          "output_type": "display_data",
          "data": {
            "text/plain": [
              "<Figure size 640x480 with 1 Axes>"
            ],
            "image/png": "[encoded data removed]"
          },
          "metadata": {}
        }
      ]
    },
    {
      "cell_type": "code",
      "source": [
        "import gym\n",
        "import numpy as np\n",
        "import matplotlib.pyplot as plt\n",
        "\n",
        "class CustomEnv(gym.Env):\n",
        "    def __init__(self, num_drones=3, num_fires=2, num_obstacles=4):\n",
        "        super(CustomEnv, self).__init__()\n",
        "\n",
        "        self.num_drones = num_drones\n",
        "        self.num_fires = num_fires\n",
        "        self.num_obstacles = num_obstacles\n",
        "\n",
        "        self.collision_radius = 1.0\n",
        "        self.extinguish_radius = 2.0\n",
        "        self.fire_reward = 10.0\n",
        "\n",
        "        self.action_space = gym.spaces.Box(low=-1, high=1, shape=(num_drones * 2,), dtype=np.float32)\n",
        "        self.observation_space = gym.spaces.Box(low=0, high=100, shape=(2 * (num_drones + num_fires + num_obstacles),), dtype=np.float32)\n",
        "\n",
        "        self.state = np.concatenate([np.random.rand(num_drones, 2) * 100,\n",
        "                                     np.random.rand(num_fires, 2) * 100,\n",
        "                                     np.random.rand(num_obstacles, 2) * 100]).flatten()\n",
        "\n",
        "    def step(self, action):\n",
        "    # Extract the positions of drones, fires, and obstacles from the state\n",
        "        drones_pos = self.state[:2 * self.num_drones].reshape(-1, 2)\n",
        "        fires_pos = self.state[2 * self.num_drones:2 * (self.num_drones + self.num_fires)].reshape(-1, 2)\n",
        "        obstacles_pos = self.state[2 * (self.num_drones + self.num_fires):].reshape(-1, 2)\n",
        "\n",
        "    # Apply actions to drones (move them)\n",
        "        for i in range(self.num_drones):\n",
        "            drones_pos[i] += action[i * 2: (i + 1) * 2]\n",
        "\n",
        "        # Check for collisions with obstacles and prevent them\n",
        "            for obstacle_pos in obstacles_pos:\n",
        "                if np.linalg.norm(drones_pos[i] - obstacle_pos) < self.collision_radius:\n",
        "                # Logic to handle collision, e.g., stop the movement\n",
        "                    drones_pos[i] -= action[i * 2: (i + 1) * 2]\n",
        "\n",
        "    def reset(self):\n",
        "        self.state = np.concatenate([np.random.rand(self.num_drones, 2) * 100,\n",
        "                                     np.random.rand(self.num_fires, 2) * 100,\n",
        "                                     np.random.rand(self.num_obstacles, 2) * 100]).flatten()\n",
        "        return self.state\n",
        "\n",
        "    def render(self, mode='human'):\n",
        "        plt.clf()\n",
        "        # ... same as previous code ...\n",
        "        plt.pause(0.01)\n",
        "        plt.show(block=False)\n",
        "\n",
        "plt.ion()  # Turn on interactive mode\n",
        "\n",
        "# Example of how to use the environment\n",
        "env = CustomEnv()\n",
        "\n",
        "for _ in range(1000):\n",
        "    action = env.action_space.sample()  # Replace with your RL agent's action\n",
        "    state, reward, done, _ = env.step(action)\n",
        "    env.render()\n",
        "    if done:\n",
        "        env.reset()\n"
      ],
      "metadata": {
        "colab": {
          "base_uri": "https://localhost:8080/",
          "height": 235
        },
        "id": "er2IiU3uHbuW",
        "outputId": "e378c565-3991-4a19-d3cc-fd956f1461ce"
      },
      "execution_count": 22,
      "outputs": [
        {
          "output_type": "error",
          "ename": "TypeError",
          "evalue": "ignored",
          "traceback": [
            "\u001b[0;31m---------------------------------------------------------------------------\u001b[0m",
            "\u001b[0;31mTypeError\u001b[0m                                 Traceback (most recent call last)",
            "\u001b[0;32m<ipython-input-22-38388c914540>\u001b[0m in \u001b[0;36m<cell line: 57>\u001b[0;34m()\u001b[0m\n\u001b[1;32m     57\u001b[0m \u001b[0;32mfor\u001b[0m \u001b[0m_\u001b[0m \u001b[0;32min\u001b[0m \u001b[0mrange\u001b[0m\u001b[0;34m(\u001b[0m\u001b[0;36m1000\u001b[0m\u001b[0;34m)\u001b[0m\u001b[0;34m:\u001b[0m\u001b[0;34m\u001b[0m\u001b[0;34m\u001b[0m\u001b[0m\n\u001b[1;32m     58\u001b[0m     \u001b[0maction\u001b[0m \u001b[0;34m=\u001b[0m \u001b[0menv\u001b[0m\u001b[0;34m.\u001b[0m\u001b[0maction_space\u001b[0m\u001b[0;34m.\u001b[0m\u001b[0msample\u001b[0m\u001b[0;34m(\u001b[0m\u001b[0;34m)\u001b[0m  \u001b[0;31m# Replace with your RL agent's action\u001b[0m\u001b[0;34m\u001b[0m\u001b[0;34m\u001b[0m\u001b[0m\n\u001b[0;32m---> 59\u001b[0;31m     \u001b[0mstate\u001b[0m\u001b[0;34m,\u001b[0m \u001b[0mreward\u001b[0m\u001b[0;34m,\u001b[0m \u001b[0mdone\u001b[0m\u001b[0;34m,\u001b[0m \u001b[0m_\u001b[0m \u001b[0;34m=\u001b[0m \u001b[0menv\u001b[0m\u001b[0;34m.\u001b[0m\u001b[0mstep\u001b[0m\u001b[0;34m(\u001b[0m\u001b[0maction\u001b[0m\u001b[0;34m)\u001b[0m\u001b[0;34m\u001b[0m\u001b[0;34m\u001b[0m\u001b[0m\n\u001b[0m\u001b[1;32m     60\u001b[0m     \u001b[0menv\u001b[0m\u001b[0;34m.\u001b[0m\u001b[0mrender\u001b[0m\u001b[0;34m(\u001b[0m\u001b[0;34m)\u001b[0m\u001b[0;34m\u001b[0m\u001b[0;34m\u001b[0m\u001b[0m\n\u001b[1;32m     61\u001b[0m     \u001b[0;32mif\u001b[0m \u001b[0mdone\u001b[0m\u001b[0;34m:\u001b[0m\u001b[0;34m\u001b[0m\u001b[0;34m\u001b[0m\u001b[0m\n",
            "\u001b[0;31mTypeError\u001b[0m: cannot unpack non-iterable NoneType object"
          ]
        }
      ]
    },
    {
      "cell_type": "markdown",
      "source": [
        "**Visualizing**"
      ],
      "metadata": {
        "id": "kbDuJdNKCUfZ"
      }
    },
    {
      "cell_type": "code",
      "source": [
        "import matplotlib.pyplot as plt\n",
        "\n",
        "class CustomEnv(gym.Env):\n",
        "    # Other methods...\n",
        "\n",
        "    def render(self, mode='human'):\n",
        "        # Clear the current figure\n",
        "        plt.clf()\n",
        "\n",
        "        # Extract positions of drones, fires, and obstacles from the state\n",
        "        drones_pos = self.state[:2 * self.num_drones].reshape(-1, 2)\n",
        "        fires_pos = self.state[2 * self.num_drones:2 * (self.num_drones + self.num_fires)].reshape(-1, 2)\n",
        "        obstacles_pos = self.state[2 * (self.num_drones + self.num_fires):].reshape(-1, 2)\n",
        "\n",
        "        # Plot drones, fires, and obstacles\n",
        "        plt.scatter(drones_pos[:, 0], drones_pos[:, 1], c='blue', label='Drones')\n",
        "        plt.scatter(fires_pos[:, 0], fires_pos[:, 1], c='red', label='Fires')\n",
        "        plt.scatter(obstacles_pos[:, 0], obstacles_pos[:, 1], c='black', label='Obstacles')\n",
        "\n",
        "        plt.legend()\n",
        "        plt.axis('equal')\n",
        "        plt.pause(0.01)  # Add a pause to allow the plot to update\n",
        "\n",
        "# ...\n",
        "\n",
        "env = CustomEnv()\n"
      ],
      "metadata": {
        "id": "1eAkrCjNGaMQ"
      },
      "execution_count": null,
      "outputs": []
    },
    {
      "cell_type": "code",
      "source": [
        "def render(self):\n",
        "    plt.clf()\n",
        "\n",
        "    # Plot drones\n",
        "    for i in range(self.num_drones):\n",
        "        drone_pos = self.state[2 * i:2 * i + 2]\n",
        "        plt.scatter(drone_pos[0], drone_pos[1], c='blue')\n",
        "\n",
        "    # Plot fires\n",
        "    for i in range(self.num_fires):\n",
        "        fire_pos = self.state[2 * (self.num_drones + i):2 * (self.num_drones + i + 1)]\n",
        "        plt.scatter(fire_pos[0], fire_pos[1], c='red')\n",
        "\n",
        "    # Plot obstacles\n",
        "    for i in range(self.num_obstacles):\n",
        "        obstacle_pos = self.state[2 * (self.num_drones + self.num_fires + i):2 * (self.num_drones + self.num_fires + i + 1)]\n",
        "        plt.scatter(obstacle_pos[0], obstacle_pos[1], c='black')\n",
        "\n",
        "    plt.xlim(0, 100)\n",
        "    plt.ylim(0, 100)\n",
        "    plt.pause(0.01)  # Pause for a short period to allow the plot to update\n"
      ],
      "metadata": {
        "id": "XSj_BvMnCXzw"
      },
      "execution_count": null,
      "outputs": []
    },
    {
      "cell_type": "markdown",
      "source": [
        "## **[4] Path Planning**\n",
        "* Multi Agent Path Planning Algorithm\n",
        "* https://github.com/atb033/multi_agent_path_planning"
      ],
      "metadata": {
        "id": "-OlOpLpWGX_n"
      }
    },
    {
      "cell_type": "markdown",
      "source": [
        "## **[5] Environment Creation**\n",
        "\n",
        "1. Fly mother drone to fixed height\n",
        "2.  Creating an abstract representation of the environment involves processing the raw sensor data and extracting the information relevant to the task. Here's a general process you might follow:\n",
        "\n",
        "1. **Use Object Detection on Video Frames:** Using the video feed from the mother drone, apply object detection algorithms to identify the smaller drones, fires, and obstacles. This could involve training a convolutional neural network (CNN) on labeled images of these objects.\n",
        "\n",
        "    If you're using OAK-D Lite, it already comes with built-in capabilities for object detection, making this process easier.\n",
        "\n",
        "2. **Coordinate Estimation:** Once the objects are detected in each frame, estimate their coordinates. In your case, since the mother drone is looking from above, the 2D image coordinates can be converted to real-world coordinates with some geometric transformation considering the height of the mother drone and camera angle.\n",
        "\n",
        "3. **Construct State Vector:** The RL agent's state could be a vector containing the 2D coordinates of all identified objects (smaller drones, fires, obstacles). Remember to standardize the coordinate data for more efficient learning.\n",
        "\n",
        "For example, if there are 2 drones (D1, D2), 1 fire (F1), and 1 obstacle (O1), a state vector might look something like this:\n",
        "\n",
        "```\n",
        "State = [D1_x, D1_y, D2_x, D2_y, F1_x, F1_y, O1_x, O1_y]\n",
        "```\n",
        "\n",
        "In this vector, `D1_x` and `D1_y` would be the x and y coordinates of drone D1, and so on for the other objects.\n",
        "\n",
        "4. **Update State:** As the mother drone gets new video frames, update the state vector in real-time. This updated state is then passed to the RL agent to choose the next action.\n",
        "\n",
        "This abstract representation of the environment greatly simplifies the state space and reduces the computational resources needed by the RL algorithm, while still retaining the necessary information for the task. However, it does rely on accurate object detection and coordinate estimation to construct the state vector."
      ],
      "metadata": {
        "id": "Ti-GfQG1VU0T"
      }
    },
    {
      "cell_type": "markdown",
      "source": [
        "## **[6] Communication between drones**\n",
        "\n",
        "* MAVLink\n",
        "* WIFI\n"
      ],
      "metadata": {
        "id": "EBAUW2-qQ1Tg"
      }
    },
    {
      "cell_type": "code",
      "source": [],
      "metadata": {
        "id": "3D_esAm-VbwA"
      },
      "execution_count": null,
      "outputs": []
    }
  ]
}